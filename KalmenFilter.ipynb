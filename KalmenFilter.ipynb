{
 "cells": [
  {
   "cell_type": "code",
   "execution_count": 21,
   "metadata": {},
   "outputs": [],
   "source": [
    "import numpy as np\n",
    "import pylab\n",
    "import pandas as pd\n"
   ]
  },
  {
   "cell_type": "code",
   "execution_count": 5,
   "metadata": {},
   "outputs": [],
   "source": [
    "n_iter = 50\n",
    "sz = (n_iter,)\n",
    "x = -0.37727\n",
    "xhat=numpy.zeros(sz)      # a posteri estimate of x\n",
    "P=numpy.zeros(sz)         # a posteri error estimate\n",
    "xhatminus=numpy.zeros(sz) # a priori estimate of x\n",
    "Pminus=numpy.zeros(sz)    # a priori error estimate\n",
    "K=numpy.zeros(sz) \n",
    "R = 0.1**2 \n",
    "\n",
    "xhat[0] = 0.0\n",
    "P[0] = 1.0\n",
    "\n",
    "for k in range(1,n_iter):\n",
    "    # time update\n",
    "    xhatminus[k] = xhat[k-1]  #X(k|k-1) = AX(k-1|k-1) + BU(k) + W(k),A=1,BU(k) = 0\n",
    "    Pminus[k] = P[k-1]+Q  \n",
    "    K[k] = Pminus[k]/( Pminus[k]+R ) #Kg(k)=P(k|k-1)H'/[HP(k|k-1)H' + R],H=1\n",
    "    xhat[k] = xhatminus[k]+K[k]*(z[k]-xhatminus[k]) #X(k|k) = X(k|k-1) + Kg(k)[Z(k) - HX(k|k-1)], H=1\n",
    "    P[k] = (1-K[k])*Pminus[k] #P(k|k) = (1 - Kg(k)H)P(k|k-1), H=1\n"
   ]
  },
  {
   "cell_type": "code",
   "execution_count": 6,
   "metadata": {},
   "outputs": [
    {
     "data": {
      "text/plain": [
       "Text(0, 0.5, 'Voltage')"
      ]
     },
     "execution_count": 6,
     "metadata": {},
     "output_type": "execute_result"
    },
    {
     "data": {
      "image/png": "[encoded data removed]",
      "text/plain": [
       "<Figure size 432x288 with 1 Axes>"
      ]
     },
     "metadata": {
      "needs_background": "light"
     },
     "output_type": "display_data"
    }
   ],
   "source": [
    "\n",
    "pylab.figure()\n",
    "pylab.plot(z,'k+',label='noisy measurements')     #测量值\n",
    "pylab.plot(xhat,'b-',label='a posteri estimate')  #过滤后的值\n",
    "pylab.axhline(x,color='g',label='truth value')    #系统值\n",
    "pylab.legend()\n",
    "pylab.xlabel('Iteration')\n",
    "pylab.ylabel('Voltage')\n",
    "\n"
   ]
  },
  {
   "cell_type": "code",
   "execution_count": 7,
   "metadata": {},
   "outputs": [
    {
     "data": {
      "image/png": "[encoded data removed]",
      "text/plain": [
       "<Figure size 432x288 with 1 Axes>"
      ]
     },
     "metadata": {
      "needs_background": "light"
     },
     "output_type": "display_data"
    }
   ],
   "source": [
    "\n",
    "pylab.figure()\n",
    "valid_iter = range(1,n_iter) # Pminus not valid at step 0\n",
    "pylab.plot(valid_iter,Pminus[valid_iter],label='a priori error estimate')\n",
    "pylab.xlabel('Iteration')\n",
    "pylab.ylabel('$(Voltage)^2$')\n",
    "pylab.setp(pylab.gca(),'ylim',[0,.01])\n",
    "pylab.show()"
   ]
  },
  {
   "cell_type": "code",
   "execution_count": null,
   "metadata": {},
   "outputs": [],
   "source": []
  },
  {
   "cell_type": "markdown",
   "metadata": {},
   "source": [
    "# part2 stock "
   ]
  },
  {
   "cell_type": "code",
   "execution_count": null,
   "metadata": {},
   "outputs": [],
   "source": [
    "import tushare as ts\n",
    "df1 = ts.get_hist_data('399001') \n",
    "df2 = ts.get_hist_data('399006') \n",
    "df = {'深指':df1['close'],'创指':df2['close']}\n",
    "df = pd.DataFrame(df)\n",
    "df=df.dropna()\n",
    "df.index = pd.to_datetime(df.index)\n",
    "\n"
   ]
  },
  {
   "cell_type": "code",
   "execution_count": null,
   "metadata": {},
   "outputs": [],
   "source": [
    "# 创指 = alpha + beta * 深指 + 随机误差 \n",
    "from pykalman import KalmanFilter\n",
    "#建立观测矩阵\n",
    "observation_matrices = np.vstack(( np.ones(len(df['2016':])),\n",
    "                                  df.loc['2016':,'深指'].values )).T\n",
    "Shape = observation_matrices.shape\n",
    "observation_matrices = observation_matrices.reshape(Shape[0],1,Shape[1])\n",
    "observation_matrices.shape\n"
   ]
  },
  {
   "cell_type": "code",
   "execution_count": 114,
   "metadata": {},
   "outputs": [
    {
     "data": {
      "text/plain": [
       "array([[-0.08231272,  0.1927994 ],\n",
       "       [-0.08260186,  0.19285662],\n",
       "       [-0.07818906,  0.19213356],\n",
       "       [-0.08036445,  0.19243042],\n",
       "       [-0.08326236,  0.19290224],\n",
       "       [-0.08213183,  0.19261527],\n",
       "       [-0.08351834,  0.19271945],\n",
       "       [-0.08646355,  0.19311933],\n",
       "       [-0.08668061,  0.19348841],\n",
       "       [-0.07787562,  0.19260318],\n",
       "       [-0.08694402,  0.19334067],\n",
       "       [-0.08862092,  0.19266573],\n",
       "       [-0.0861416 ,  0.19185727],\n",
       "       [-0.09156344,  0.19212671],\n",
       "       [-0.09286129,  0.19261063],\n",
       "       [-0.25730744,  0.19462887],\n",
       "       [-0.27246928,  0.19560106],\n",
       "       [-0.29297701,  0.19668785],\n",
       "       [-0.29273805,  0.19689976],\n",
       "       [-0.31589749,  0.19880959],\n",
       "       [-0.23131677,  0.19645903],\n",
       "       [-0.24733004,  0.19679986],\n",
       "       [-0.24592755,  0.1982504 ],\n",
       "       [-0.20167815,  0.19581507],\n",
       "       [-0.19938773,  0.19570729],\n",
       "       [-0.20406363,  0.196409  ],\n",
       "       [-0.20597978,  0.19575097],\n",
       "       [-0.22942615,  0.19736104],\n",
       "       [-0.24373312,  0.19824295],\n",
       "       [-0.25087287,  0.1975165 ],\n",
       "       [-0.25716226,  0.19819418],\n",
       "       [-0.24151435,  0.19764694],\n",
       "       [-0.26814876,  0.1989976 ],\n",
       "       [-0.26716905,  0.19890086],\n",
       "       [-0.26919073,  0.19821343],\n",
       "       [-0.26690171,  0.19740939],\n",
       "       [-0.26229695,  0.19807717],\n",
       "       [-0.24652706,  0.19856236],\n",
       "       [-0.28892518,  0.19980064],\n",
       "       [-0.29712527,  0.19921582],\n",
       "       [-0.3135836 ,  0.20045967],\n",
       "       [-0.31299335,  0.20043773],\n",
       "       [-0.30990872,  0.20076231],\n",
       "       [-0.33555285,  0.20218797],\n",
       "       [-0.34120132,  0.20231837],\n",
       "       [-0.33300473,  0.20197403],\n",
       "       [-0.34830414,  0.20241147]])"
      ]
     },
     "execution_count": 114,
     "metadata": {},
     "output_type": "execute_result"
    }
   ],
   "source": [
    "kf = KalmanFilter(transition_matrices=np.array([[1,0],[0,1]]), #转移矩阵为单位阵\n",
    "                  observation_matrices=observation_matrices)\n",
    "kf \n",
    "np.random.seed(0)\n",
    "kf.em(df.loc['2016':,'创指'])\n",
    "filter_mean,filter_cov = kf.filter(df.loc['2016':,'创指'])\n",
    "df3 = df.loc['2016':,'创指']\n",
    "filter_mean\n",
    "# df['深指'].values[start_index]"
   ]
  },
  {
   "cell_type": "code",
   "execution_count": 119,
   "metadata": {},
   "outputs": [
    {
     "data": {
      "text/plain": [
       "masked_array(\n",
       "  data=[[-8.23127211e-02,  1.92799396e-01],\n",
       "        [-8.26018602e-02,  1.92856624e-01],\n",
       "        [-7.81890645e-02,  1.92133563e-01],\n",
       "        ...,\n",
       "        [-2.26954727e+02,  2.23323789e-01],\n",
       "        [-2.26864321e+02,  2.22915656e-01],\n",
       "        [-2.26999993e+02,  2.23260535e-01]],\n",
       "  mask=False,\n",
       "  fill_value=1e+20)"
      ]
     },
     "execution_count": 119,
     "metadata": {},
     "output_type": "execute_result"
    }
   ],
   "source": [
    "for i in range(293,len(df)):\n",
    "    observation_matrix = np.array([[1,df['深指'].values[i]]])\n",
    "    observation = df['创指'].values[i]\n",
    "    next_filter_mean,next_filter_cov = kf.filter_update(\n",
    "            filtered_state_mean = filter_mean[-1],\n",
    "            filtered_state_covariance = filter_cov[-1],\n",
    "            observation = observation,\n",
    "            observation_matrix = observation_matrix)\n",
    "    filter_mean = np.vstack((filter_mean,next_filter_mean))\n",
    "    filter_cov = np.vstack((filter_cov,next_filter_cov.reshape(1,2,2)))\n",
    "filter_mean"
   ]
  },
  {
   "cell_type": "code",
   "execution_count": 120,
   "metadata": {},
   "outputs": [
    {
     "ename": "ValueError",
     "evalue": "Length of passed values is 711, index implies 319",
     "output_type": "error",
     "traceback": [
      "\u001b[0;31m---------------------------------------------------------------------------\u001b[0m",
      "\u001b[0;31mValueError\u001b[0m                                Traceback (most recent call last)",
      "\u001b[0;32m<ipython-input-120-12e2b9aecc1c>\u001b[0m in \u001b[0;36m<module>\u001b[0;34m\u001b[0m\n\u001b[1;32m      1\u001b[0m \u001b[0mfilter_mean\u001b[0m\u001b[0;34m[\u001b[0m\u001b[0;36m293\u001b[0m\u001b[0;34m:\u001b[0m\u001b[0;34m,\u001b[0m\u001b[0;36m0\u001b[0m\u001b[0;34m]\u001b[0m\u001b[0;34m\u001b[0m\u001b[0;34m\u001b[0m\u001b[0m\n\u001b[0;32m----> 2\u001b[0;31m \u001b[0malpha\u001b[0m \u001b[0;34m=\u001b[0m \u001b[0mpd\u001b[0m\u001b[0;34m.\u001b[0m\u001b[0mSeries\u001b[0m\u001b[0;34m(\u001b[0m\u001b[0mfilter_mean\u001b[0m\u001b[0;34m[\u001b[0m\u001b[0;36m293\u001b[0m\u001b[0;34m:\u001b[0m\u001b[0;34m,\u001b[0m\u001b[0;36m0\u001b[0m\u001b[0;34m]\u001b[0m\u001b[0;34m,\u001b[0m \u001b[0mindex\u001b[0m \u001b[0;34m=\u001b[0m \u001b[0mdf\u001b[0m\u001b[0;34m.\u001b[0m\u001b[0mindex\u001b[0m\u001b[0;34m[\u001b[0m\u001b[0;36m293\u001b[0m\u001b[0;34m:\u001b[0m\u001b[0;34m]\u001b[0m\u001b[0;34m)\u001b[0m\u001b[0;34m\u001b[0m\u001b[0;34m\u001b[0m\u001b[0m\n\u001b[0m\u001b[1;32m      3\u001b[0m \u001b[0mbeta\u001b[0m \u001b[0;34m=\u001b[0m \u001b[0mpd\u001b[0m\u001b[0;34m.\u001b[0m\u001b[0mSeries\u001b[0m\u001b[0;34m(\u001b[0m\u001b[0mfilter_mean\u001b[0m\u001b[0;34m[\u001b[0m\u001b[0;36m293\u001b[0m\u001b[0;34m:\u001b[0m\u001b[0;34m,\u001b[0m\u001b[0;36m1\u001b[0m\u001b[0;34m]\u001b[0m\u001b[0;34m,\u001b[0m \u001b[0mindex\u001b[0m \u001b[0;34m=\u001b[0m \u001b[0mdf\u001b[0m\u001b[0;34m.\u001b[0m\u001b[0mindex\u001b[0m\u001b[0;34m[\u001b[0m\u001b[0;36m293\u001b[0m\u001b[0;34m:\u001b[0m\u001b[0;34m]\u001b[0m\u001b[0;34m)\u001b[0m\u001b[0;34m\u001b[0m\u001b[0;34m\u001b[0m\u001b[0m\n",
      "\u001b[0;32m/Library/Frameworks/Python.framework/Versions/3.7/lib/python3.7/site-packages/pandas/core/series.py\u001b[0m in \u001b[0;36m__init__\u001b[0;34m(self, data, index, dtype, name, copy, fastpath)\u001b[0m\n\u001b[1;32m    247\u001b[0m                             \u001b[0;34m'Length of passed values is {val}, '\u001b[0m\u001b[0;34m\u001b[0m\u001b[0;34m\u001b[0m\u001b[0m\n\u001b[1;32m    248\u001b[0m                             \u001b[0;34m'index implies {ind}'\u001b[0m\u001b[0;34m\u001b[0m\u001b[0;34m\u001b[0m\u001b[0m\n\u001b[0;32m--> 249\u001b[0;31m                             .format(val=len(data), ind=len(index)))\n\u001b[0m\u001b[1;32m    250\u001b[0m                 \u001b[0;32mexcept\u001b[0m \u001b[0mTypeError\u001b[0m\u001b[0;34m:\u001b[0m\u001b[0;34m\u001b[0m\u001b[0;34m\u001b[0m\u001b[0m\n\u001b[1;32m    251\u001b[0m                     \u001b[0;32mpass\u001b[0m\u001b[0;34m\u001b[0m\u001b[0;34m\u001b[0m\u001b[0m\n",
      "\u001b[0;31mValueError\u001b[0m: Length of passed values is 711, index implies 319"
     ]
    }
   ],
   "source": [
    "filter_mean[293:,0]\n",
    "alpha = pd.Series(filter_mean[293:,0], index = df.index[293:])\n",
    "beta = pd.Series(filter_mean[293:,1], index = df.index[293:])"
   ]
  },
  {
   "cell_type": "code",
   "execution_count": null,
   "metadata": {},
   "outputs": [],
   "source": []
  }
 ],
 "metadata": {
  "kernelspec": {
   "display_name": "Python 3",
   "language": "python",
   "name": "python3"
  },
  "language_info": {
   "codemirror_mode": {
    "name": "ipython",
    "version": 3
   },
   "file_extension": ".py",
   "mimetype": "text/x-python",
   "name": "python",
   "nbconvert_exporter": "python",
   "pygments_lexer": "ipython3",
   "version": "3.7.2"
  }
 },
 "nbformat": 4,
 "nbformat_minor": 2
}
