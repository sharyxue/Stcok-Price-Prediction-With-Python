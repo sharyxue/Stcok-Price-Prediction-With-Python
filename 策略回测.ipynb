{
 "cells": [
  {
   "cell_type": "code",
   "execution_count": 1,
   "metadata": {},
   "outputs": [],
   "source": [
    "import tushare as ts\n",
    "import numpy as np\n",
    "import pandas as pd\n",
    "import matplotlib.pyplot as plt\n",
    "from sklearn import preprocessing \n",
    "from sklearn.preprocessing import MinMaxScaler\n",
    "from sklearn.model_selection import train_test_split\n",
    "from sklearn.metrics import mean_squared_error"
   ]
  },
  {
   "cell_type": "markdown",
   "metadata": {},
   "source": [
    "# 基于阻力支撑相对强度(RSRS)的市场择时(参考光大证券技术择时序列报告)"
   ]
  },
  {
   "cell_type": "markdown",
   "metadata": {},
   "source": [
    "理论基础：布林线和均线策略缺点，等待突破时有滞后性导致震荡行情中不断亏损，用日内最高价和最低价来表示市场对阻力位和支撑位的一致定位。\n",
    "high = alpha+beta*low+epsilon eplison～N(0,sigma)\n",
    "样本N的考虑：太小不能过滤噪音，太大不能体现当前的情况\n",
    "牛市和熊市高beta市场走势：牛市，阻力变弱，熊市，支撑变强。\n",
    "对以下两种方式进行回测\n",
    "方式一：\n",
    "1.取前N日的最高序列和最低序列\n",
    "2. 将两列数据进行 OLS 线性回归。\n",
    "3. 将拟合后的 beta 值作为当日 RSRS 斜率指标值。\n",
    "方式二：\n",
    "另一种则为将斜率标准化，取其标准分作为指标值。 当日标准分指标的计算方式:\n",
    "1. 取前 M 日的斜率时间序列。\n",
    "2. 以此样本计算当日斜率的标准分。\n",
    "3. 将计算得到的标准分 z 作为当日 RSRS 标准分指标值\n"
   ]
  },
  {
   "cell_type": "code",
   "execution_count": 2,
   "metadata": {},
   "outputs": [
    {
     "ename": "ModuleNotFoundError",
     "evalue": "No module named 'statsmodels'",
     "output_type": "error",
     "traceback": [
      "\u001b[0;31m---------------------------------------------------------------------------\u001b[0m",
      "\u001b[0;31mModuleNotFoundError\u001b[0m                       Traceback (most recent call last)",
      "\u001b[0;32m<ipython-input-2-085740203b77>\u001b[0m in \u001b[0;36m<module>\u001b[0;34m\u001b[0m\n\u001b[0;32m----> 1\u001b[0;31m \u001b[0;32mimport\u001b[0m \u001b[0mstatsmodels\u001b[0m\u001b[0;34m.\u001b[0m\u001b[0mapi\u001b[0m \u001b[0;32mas\u001b[0m \u001b[0msm\u001b[0m\u001b[0;34m\u001b[0m\u001b[0;34m\u001b[0m\u001b[0m\n\u001b[0m",
      "\u001b[0;31mModuleNotFoundError\u001b[0m: No module named 'statsmodels'"
     ]
    }
   ],
   "source": [
    "import statsmodels.api as sm"
   ]
  },
  {
   "cell_type": "code",
   "execution_count": null,
   "metadata": {},
   "outputs": [],
   "source": []
  }
 ],
 "metadata": {
  "kernelspec": {
   "display_name": "Python 3",
   "language": "python",
   "name": "python3"
  },
  "language_info": {
   "codemirror_mode": {
    "name": "ipython",
    "version": 3
   },
   "file_extension": ".py",
   "mimetype": "text/x-python",
   "name": "python",
   "nbconvert_exporter": "python",
   "pygments_lexer": "ipython3",
   "version": "3.7.2"
  }
 },
 "nbformat": 4,
 "nbformat_minor": 2
}
