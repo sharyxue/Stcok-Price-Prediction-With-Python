{
 "cells": [
  {
   "cell_type": "code",
   "execution_count": 35,
   "metadata": {},
   "outputs": [],
   "source": [
    "import tushare as ts\n",
    "import numpy as np\n",
    "import pandas as pd\n",
    "import matplotlib.pyplot as plt\n",
    "from sklearn import preprocessing \n",
    "from sklearn.preprocessing import MinMaxScaler\n",
    "from sklearn.model_selection import train_test_split\n",
    "from sklearn.metrics import mean_squared_error\n",
    "from keras.models import Sequential\n",
    "from keras.layers import Dense\n",
    "from keras.layers import LSTM\n",
    "from keras.layers import Dropout,Activation"
   ]
  },
  {
   "cell_type": "markdown",
   "metadata": {},
   "source": [
    "# Part 1 -model"
   ]
  },
  {
   "cell_type": "code",
   "execution_count": null,
   "metadata": {},
   "outputs": [],
   "source": [
    "df = pd.read_csv(r'./Data/TRAINSET_STOCK.csv')\n",
    "df_add = pd.read_csv(r'./Data/20190506_STOCK.csv')\n",
    "df_test = pd.read_csv(r'./Data/20190514_STOCK.csv')\n",
    "df_test1 = pd.read_csv(r'./Data/20190521_STOCK.csv')\n",
    "df = pd.concat([df,df_add,df_test,df_test1])\n",
    "df['vol_change'] = df.groupby([\"ts_code\"])['vol'].pct_change()\n",
    "df['low_change'] = df.groupby([\"ts_code\"])['low'].pct_change()\n",
    "df['high_change'] = df.groupby([\"ts_code\"])['high'].pct_change()\n",
    "df['vol_change'] = df['vol_change'].fillna(0)\n",
    "df['low_change'] = df['vol_change'].fillna(0)\n",
    "df['high_change'] = df['vol_change'].fillna(0)\n",
    "df =  df[['ts_code','trade_date','name','pct_change','vol_change','high_change','low_change','y']]\n",
    "df = df[['pct_change','vol_change','high_change','low_change','y']]\n",
    "dataset = df.values\n",
    "x = []\n",
    "y = []\n",
    "for i in range(len(dataset)-15):\n",
    "    x.append(dataset[i:(i+10),:5].tolist())\n",
    "    y.append(dataset[(i+10):(i+15),4,np.newaxis].tolist())\n",
    "xtrain, xtest, ytrain, ytest = train_test_split(\n",
    "    x, y, test_size=0.2, random_state=0)\n",
    "xtrain, xtest, ytrain, ytest = np.array(xtrain),np.array(xtest),np.array(ytrain),np.array(ytest)\n",
    "xtrain.shape, xtest.shape, ytrain.shape, ytest.shape\n",
    "ytrain = np.reshape(ytrain, (ytrain.shape[0], ytrain.shape[1]))\n",
    "ytest= np.reshape(ytest, (ytest.shape[0], ytest.shape[1]))\n",
    "regressor = Sequential()\n",
    "regressor.add(LSTM(units = 60, return_sequences = True, input_shape = (xtrain.shape[1], 5)))\n",
    "regressor.add(Dropout(0.2))\n",
    "regressor.add(LSTM(units = 60, return_sequences = True))\n",
    "regressor.add(Dropout(0.2))\n",
    "regressor.add(LSTM(units = 60,return_sequences = True))\n",
    "regressor.add(Dropout(0.2))\n",
    "regressor.add(LSTM(units = 60))\n",
    "regressor.add(Dropout(0.2))\n",
    "regressor.add(Dense(units = 5))\n",
    "regressor.add(Activation('sigmoid'))\n",
    "regressor.compile(optimizer = 'adam', loss = 'mean_squared_error')\n",
    "regressor.fit(xtrain, ytrain, epochs = 100, batch_size = 50)\n",
    "predicted_stock_price = regressor.predict(xtest)\n",
    "a = []\n",
    "for i in range(len(ytest)):\n",
    "    fpr, tpr, thresholds = roc_curve(ytest[i], predicted_stock_price[i], pos_label=1)\n",
    "    auc(fpr, tpr)\n",
    "    a.append(auc(fpr, tpr))\n",
    "a=pd.DataFrame(a)\n",
    "a=a.dropna()\n",
    "a.mean()"
   ]
  },
  {
   "cell_type": "code",
   "execution_count": 28,
   "metadata": {},
   "outputs": [],
   "source": [
    "def pre(code):\n",
    "    df1 = ts.get_hist_data(code) \n",
    "    df1=df1.head(n=11)\n",
    "    df1=df1.sort_index(ascending=True)\n",
    "    df1=df1[['p_change','volume','high','low']]\n",
    "    df1['y']=[1,0,0,1,1,0,0,1,0,0,1]\n",
    "    df1['vol_change'] = df1['volume'].pct_change()\n",
    "    df1['low_change'] = df1['low'].pct_change()\n",
    "    df1['high_change'] = df1['high'].pct_change()\n",
    "    dataset=df1.values\n",
    "    x=dataset.tolist()\n",
    "    x=np.array(x)\n",
    "    x=np.reshape(x, (1,x.shape[0],x.shape[1]))\n",
    "    predicted = regressor.predict(x)\n",
    "    print(predicted)\n"
   ]
  },
  {
   "cell_type": "code",
   "execution_count": 36,
   "metadata": {},
   "outputs": [],
   "source": [
    "def getdata(code):\n",
    "    df = ts.get_hist_data(code)\n",
    "    df.to_csv('./预测.csv')"
   ]
  },
  {
   "cell_type": "code",
   "execution_count": 37,
   "metadata": {},
   "outputs": [],
   "source": [
    "getdata('sh')"
   ]
  },
  {
   "cell_type": "code",
   "execution_count": null,
   "metadata": {},
   "outputs": [],
   "source": []
  }
 ],
 "metadata": {
  "kernelspec": {
   "display_name": "Python 3",
   "language": "python",
   "name": "python3"
  },
  "language_info": {
   "codemirror_mode": {
    "name": "ipython",
    "version": 3
   },
   "file_extension": ".py",
   "mimetype": "text/x-python",
   "name": "python",
   "nbconvert_exporter": "python",
   "pygments_lexer": "ipython3",
   "version": "3.7.2"
  }
 },
 "nbformat": 4,
 "nbformat_minor": 2
}
